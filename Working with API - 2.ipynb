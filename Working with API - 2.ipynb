{
 "cells": [
  {
   "cell_type": "markdown",
   "metadata": {},
   "source": [
    "# WORKING WITH API - 2"
   ]
  },
  {
   "cell_type": "code",
   "execution_count": 1,
   "metadata": {},
   "outputs": [],
   "source": [
    "import requests\n",
    "import json"
   ]
  },
  {
   "cell_type": "code",
   "execution_count": 21,
   "metadata": {},
   "outputs": [
    {
     "name": "stdout",
     "output_type": "stream",
     "text": [
      "{'login': 'onesheka', 'id': 55942897, 'node_id': 'MDQ6VXNlcjU1OTQyODk3', 'avatar_url': 'https://avatars2.githubusercontent.com/u/55942897?v=4', 'gravatar_id': '', 'url': 'https://api.github.com/users/onesheka', 'html_url': 'https://github.com/onesheka', 'followers_url': 'https://api.github.com/users/onesheka/followers', 'following_url': 'https://api.github.com/users/onesheka/following{/other_user}', 'gists_url': 'https://api.github.com/users/onesheka/gists{/gist_id}', 'starred_url': 'https://api.github.com/users/onesheka/starred{/owner}{/repo}', 'subscriptions_url': 'https://api.github.com/users/onesheka/subscriptions', 'organizations_url': 'https://api.github.com/users/onesheka/orgs', 'repos_url': 'https://api.github.com/users/onesheka/repos', 'events_url': 'https://api.github.com/users/onesheka/events{/privacy}', 'received_events_url': 'https://api.github.com/users/onesheka/received_events', 'type': 'User', 'site_admin': False, 'name': 'Vanshika Arora', 'company': None, 'blog': 'www.aroravanshika.com', 'location': None, 'email': None, 'hireable': None, 'bio': None, 'public_repos': 21, 'public_gists': 0, 'followers': 0, 'following': 0, 'created_at': '2019-09-29T08:31:12Z', 'updated_at': '2019-11-12T15:23:15Z'}\n"
     ]
    }
   ],
   "source": [
    "headers = {\"Authorization\": (INSERT YOUR OWN TOKEN HERE!)}\n",
    "response = requests.get(\"https://api.github.com/users/onesheka\", headers=headers)\n",
    "print(response.json())\n",
    "\n",
    "response = requests.get(\"https://api.github.com/users/onesheka/orgs\", headers=headers)\n",
    "orgs = response.json()"
   ]
  },
  {
   "cell_type": "code",
   "execution_count": 10,
   "metadata": {},
   "outputs": [
    {
     "name": "stdout",
     "output_type": "stream",
     "text": [
      "{'login': 'torvalds', 'id': 1024025, 'node_id': 'MDQ6VXNlcjEwMjQwMjU=', 'avatar_url': 'https://avatars0.githubusercontent.com/u/1024025?v=4', 'gravatar_id': '', 'url': 'https://api.github.com/users/torvalds', 'html_url': 'https://github.com/torvalds', 'followers_url': 'https://api.github.com/users/torvalds/followers', 'following_url': 'https://api.github.com/users/torvalds/following{/other_user}', 'gists_url': 'https://api.github.com/users/torvalds/gists{/gist_id}', 'starred_url': 'https://api.github.com/users/torvalds/starred{/owner}{/repo}', 'subscriptions_url': 'https://api.github.com/users/torvalds/subscriptions', 'organizations_url': 'https://api.github.com/users/torvalds/orgs', 'repos_url': 'https://api.github.com/users/torvalds/repos', 'events_url': 'https://api.github.com/users/torvalds/events{/privacy}', 'received_events_url': 'https://api.github.com/users/torvalds/received_events', 'type': 'User', 'site_admin': False, 'name': 'Linus Torvalds', 'company': 'Linux Foundation', 'blog': '', 'location': 'Portland, OR', 'email': None, 'hireable': None, 'bio': None, 'public_repos': 6, 'public_gists': 0, 'followers': 102817, 'following': 0, 'created_at': '2011-09-03T15:26:22Z', 'updated_at': '2019-11-08T21:13:12Z'}\n"
     ]
    }
   ],
   "source": [
    "response = requests.get(\"https://api.github.com/users/torvalds\", headers=headers)\n",
    "torvalds = response.json()\n",
    "print(torvalds)\n"
   ]
  },
  {
   "cell_type": "code",
   "execution_count": 11,
   "metadata": {},
   "outputs": [
    {
     "name": "stdout",
     "output_type": "stream",
     "text": [
      "{'id': 1296269, 'node_id': 'MDEwOlJlcG9zaXRvcnkxMjk2MjY5', 'name': 'Hello-World', 'full_name': 'octocat/Hello-World', 'private': False, 'owner': {'login': 'octocat', 'id': 583231, 'node_id': 'MDQ6VXNlcjU4MzIzMQ==', 'avatar_url': 'https://avatars3.githubusercontent.com/u/583231?v=4', 'gravatar_id': '', 'url': 'https://api.github.com/users/octocat', 'html_url': 'https://github.com/octocat', 'followers_url': 'https://api.github.com/users/octocat/followers', 'following_url': 'https://api.github.com/users/octocat/following{/other_user}', 'gists_url': 'https://api.github.com/users/octocat/gists{/gist_id}', 'starred_url': 'https://api.github.com/users/octocat/starred{/owner}{/repo}', 'subscriptions_url': 'https://api.github.com/users/octocat/subscriptions', 'organizations_url': 'https://api.github.com/users/octocat/orgs', 'repos_url': 'https://api.github.com/users/octocat/repos', 'events_url': 'https://api.github.com/users/octocat/events{/privacy}', 'received_events_url': 'https://api.github.com/users/octocat/received_events', 'type': 'User', 'site_admin': False}, 'html_url': 'https://github.com/octocat/Hello-World', 'description': 'My first repository on GitHub!', 'fork': False, 'url': 'https://api.github.com/repos/octocat/Hello-World', 'forks_url': 'https://api.github.com/repos/octocat/Hello-World/forks', 'keys_url': 'https://api.github.com/repos/octocat/Hello-World/keys{/key_id}', 'collaborators_url': 'https://api.github.com/repos/octocat/Hello-World/collaborators{/collaborator}', 'teams_url': 'https://api.github.com/repos/octocat/Hello-World/teams', 'hooks_url': 'https://api.github.com/repos/octocat/Hello-World/hooks', 'issue_events_url': 'https://api.github.com/repos/octocat/Hello-World/issues/events{/number}', 'events_url': 'https://api.github.com/repos/octocat/Hello-World/events', 'assignees_url': 'https://api.github.com/repos/octocat/Hello-World/assignees{/user}', 'branches_url': 'https://api.github.com/repos/octocat/Hello-World/branches{/branch}', 'tags_url': 'https://api.github.com/repos/octocat/Hello-World/tags', 'blobs_url': 'https://api.github.com/repos/octocat/Hello-World/git/blobs{/sha}', 'git_tags_url': 'https://api.github.com/repos/octocat/Hello-World/git/tags{/sha}', 'git_refs_url': 'https://api.github.com/repos/octocat/Hello-World/git/refs{/sha}', 'trees_url': 'https://api.github.com/repos/octocat/Hello-World/git/trees{/sha}', 'statuses_url': 'https://api.github.com/repos/octocat/Hello-World/statuses/{sha}', 'languages_url': 'https://api.github.com/repos/octocat/Hello-World/languages', 'stargazers_url': 'https://api.github.com/repos/octocat/Hello-World/stargazers', 'contributors_url': 'https://api.github.com/repos/octocat/Hello-World/contributors', 'subscribers_url': 'https://api.github.com/repos/octocat/Hello-World/subscribers', 'subscription_url': 'https://api.github.com/repos/octocat/Hello-World/subscription', 'commits_url': 'https://api.github.com/repos/octocat/Hello-World/commits{/sha}', 'git_commits_url': 'https://api.github.com/repos/octocat/Hello-World/git/commits{/sha}', 'comments_url': 'https://api.github.com/repos/octocat/Hello-World/comments{/number}', 'issue_comment_url': 'https://api.github.com/repos/octocat/Hello-World/issues/comments{/number}', 'contents_url': 'https://api.github.com/repos/octocat/Hello-World/contents/{+path}', 'compare_url': 'https://api.github.com/repos/octocat/Hello-World/compare/{base}...{head}', 'merges_url': 'https://api.github.com/repos/octocat/Hello-World/merges', 'archive_url': 'https://api.github.com/repos/octocat/Hello-World/{archive_format}{/ref}', 'downloads_url': 'https://api.github.com/repos/octocat/Hello-World/downloads', 'issues_url': 'https://api.github.com/repos/octocat/Hello-World/issues{/number}', 'pulls_url': 'https://api.github.com/repos/octocat/Hello-World/pulls{/number}', 'milestones_url': 'https://api.github.com/repos/octocat/Hello-World/milestones{/number}', 'notifications_url': 'https://api.github.com/repos/octocat/Hello-World/notifications{?since,all,participating}', 'labels_url': 'https://api.github.com/repos/octocat/Hello-World/labels{/name}', 'releases_url': 'https://api.github.com/repos/octocat/Hello-World/releases{/id}', 'deployments_url': 'https://api.github.com/repos/octocat/Hello-World/deployments', 'created_at': '2011-01-26T19:01:12Z', 'updated_at': '2019-11-18T13:23:13Z', 'pushed_at': '2019-10-31T14:30:59Z', 'git_url': 'git://github.com/octocat/Hello-World.git', 'ssh_url': 'git@github.com:octocat/Hello-World.git', 'clone_url': 'https://github.com/octocat/Hello-World.git', 'svn_url': 'https://github.com/octocat/Hello-World', 'homepage': '', 'size': 1, 'stargazers_count': 1514, 'watchers_count': 1514, 'language': None, 'has_issues': True, 'has_projects': True, 'has_downloads': True, 'has_wiki': True, 'has_pages': False, 'forks_count': 1389, 'mirror_url': None, 'archived': False, 'disabled': False, 'open_issues_count': 388, 'license': None, 'forks': 1389, 'open_issues': 388, 'watchers': 1514, 'default_branch': 'master', 'network_count': 1389, 'subscribers_count': 1648}\n"
     ]
    }
   ],
   "source": [
    "response = requests.get(\"https://api.github.com/repos/octocat/Hello-World\", headers=headers)\n",
    "hello_world = response.json()\n",
    "print(hello_world)"
   ]
  },
  {
   "cell_type": "markdown",
   "metadata": {},
   "source": [
    "### PAGINATION"
   ]
  },
  {
   "cell_type": "code",
   "execution_count": 12,
   "metadata": {},
   "outputs": [],
   "source": [
    "params = {\"per_page\": 50, \"page\": 1}\n",
    "response = requests.get(\"https://api.github.com/users/onesheka/starred\", headers=headers, params=params)\n",
    "page1_repos = response.json()\n",
    "params = {\"per_page\": 50, \"page\": 2}\n",
    "response = requests.get(\"https://api.github.com/users/starred\", headers=headers, params=params)\n",
    "page2_repos = response.json()"
   ]
  },
  {
   "cell_type": "code",
   "execution_count": 13,
   "metadata": {},
   "outputs": [],
   "source": [
    "response = requests.get(\"https://api.github.com/user\", headers=headers)\n",
    "user = response.json()\n"
   ]
  },
  {
   "cell_type": "markdown",
   "metadata": {},
   "source": [
    "### POST REQUEST"
   ]
  },
  {
   "cell_type": "code",
   "execution_count": 17,
   "metadata": {},
   "outputs": [
    {
     "name": "stdout",
     "output_type": "stream",
     "text": [
      "401\n"
     ]
    }
   ],
   "source": [
    "payload = {\"name\": \"test\"}\n",
    "response = requests.post(\"https://api.github.com/user/repos\", json=payload, headers=headers)\n",
    "print(response.status_code)\n",
    "payload = {\"name\": \"learning-about-apis\"}\n"
   ]
  },
  {
   "cell_type": "code",
   "execution_count": 18,
   "metadata": {},
   "outputs": [
    {
     "name": "stdout",
     "output_type": "stream",
     "text": [
      "401\n"
     ]
    }
   ],
   "source": [
    "response = requests.post(\"https://api.github.com/user/repos\", json=payload, headers=headers)\n",
    "status = response.status_code\n",
    "print(status)"
   ]
  },
  {
   "cell_type": "markdown",
   "metadata": {},
   "source": [
    "### PUT/PATCH REQUESTS"
   ]
  },
  {
   "cell_type": "code",
   "execution_count": 22,
   "metadata": {},
   "outputs": [
    {
     "name": "stdout",
     "output_type": "stream",
     "text": [
      "404\n",
      "404\n"
     ]
    }
   ],
   "source": [
    "payload = {'description': 'The best repository ever!', 'name': 'test'}\n",
    "response = requests.patch('https://api.github.com/repos/user/test', json=payload, headers=headers)\n",
    "print(response.status_code)\n",
    "\n",
    "payload = {'description': 'Learning about requests!', 'name': 'learning-about-apis'}\n",
    "response = requests.patch('https://api.github.com/repos/user/learning-about-apis', json=payload, headers=headers)\n",
    "status = response.status_code\n",
    "print(status)"
   ]
  },
  {
   "cell_type": "markdown",
   "metadata": {},
   "source": [
    "### DELETE REQUESTS"
   ]
  },
  {
   "cell_type": "code",
   "execution_count": 26,
   "metadata": {},
   "outputs": [
    {
     "name": "stdout",
     "output_type": "stream",
     "text": [
      "404\n",
      "403\n"
     ]
    }
   ],
   "source": [
    "response = requests.delete(\"https://api.github.com/repos/onesheka/test\", headers=headers)\n",
    "print(response.status_code)\n",
    "\n",
    "response = requests.delete(\"https://api.github.com/repos/onesheka/working-with-api\", headers=headers)\n",
    "status=response.status_code\n",
    "print(status)"
   ]
  },
  {
   "cell_type": "code",
   "execution_count": null,
   "metadata": {},
   "outputs": [],
   "source": []
  }
 ],
 "metadata": {
  "kernelspec": {
   "display_name": "Python 3",
   "language": "python",
   "name": "python3"
  },
  "language_info": {
   "codemirror_mode": {
    "name": "ipython",
    "version": 3
   },
   "file_extension": ".py",
   "mimetype": "text/x-python",
   "name": "python",
   "nbconvert_exporter": "python",
   "pygments_lexer": "ipython3",
   "version": "3.6.5"
  }
 },
 "nbformat": 4,
 "nbformat_minor": 2
}
